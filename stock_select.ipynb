{
 "cells": [
  {
   "cell_type": "code",
   "execution_count": null,
   "metadata": {},
   "outputs": [],
   "source": [
    "%matplotlib inline\n",
    "import pandas as pd\n",
    "import numpy as np\n",
    "import matplotlib.pyplot as plt\n",
    "import stockdata as sd"
   ]
  },
  {
   "cell_type": "code",
   "execution_count": null,
   "metadata": {},
   "outputs": [],
   "source": [
    "\"\"\"\n",
    "分类一.\n",
    "1. 上市超过2年\n",
    "2. 营收分为: 0-10亿  10亿-50亿  50亿-200亿  200亿以上\n",
    "3. 资产负债: <30 低负债\n",
    "\"\"\"\n",
    "start_season = '2021-01-01'\n",
    "dftotal = sd.load_jibenmian(start_season)\n",
    "\n",
    "season_select = '20221231'\n",
    "df = dftotal[dftotal['DATE'] == season_select]\n"
   ]
  },
  {
   "cell_type": "code",
   "execution_count": null,
   "metadata": {},
   "outputs": [],
   "source": [
    "df = df[df['营业总收入']<5e+8]   # \n",
    "\n",
    "plt.scatter(df['净利润'], df['营业总收入'], s=df['资产负债率']/3)\n",
    "for i in range(len(df)):\n",
    "    # Check if the point is an outlier\n",
    "    if df.iloc[i]['净利润'] > 1.5e+8:\n",
    "        # Annotate the point with its name\n",
    "        plt.annotate(df.iloc[i]['股票代码'], (df.iloc[i]['净利润'], df.iloc[i]['营业总收入']))\n",
    "\n",
    "plt.show()"
   ]
  }
 ],
 "metadata": {
  "language_info": {
   "name": "python"
  },
  "orig_nbformat": 4
 },
 "nbformat": 4,
 "nbformat_minor": 2
}
