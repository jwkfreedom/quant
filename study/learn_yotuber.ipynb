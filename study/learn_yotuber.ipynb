{
 "cells": [
  {
   "attachments": {},
   "cell_type": "markdown",
   "metadata": {},
   "source": [
    "# Basics of Quantitative Trading\n",
    "https://www.youtube.com/watch?v=xfzGZB4HhEE&t=31s\n",
    "\n",
    "#### data source\n",
    "> SP500 : https://github.com/fja05680/sp500\n",
    "> iexapis: jwk_freedom@xxx.com  moxxIEX\n",
    "> https://polygon.io/:   github account"
   ]
  },
  {
   "cell_type": "code",
   "execution_count": null,
   "metadata": {},
   "outputs": [],
   "source": [
    "%matplotlib inline\n",
    "import pandas as pd\n",
    "import numpy as np\n",
    "import math"
   ]
  }
 ],
 "metadata": {
  "language_info": {
   "name": "python"
  },
  "orig_nbformat": 4
 },
 "nbformat": 4,
 "nbformat_minor": 2
}
