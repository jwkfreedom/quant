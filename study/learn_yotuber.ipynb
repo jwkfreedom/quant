{
 "cells": [
  {
   "attachments": {},
   "cell_type": "markdown",
   "metadata": {},
   "source": [
    "# Basics of Quantitative Trading\n",
    "https://www.youtube.com/watch?v=xfzGZB4HhEE&t=31s\n",
    "\n",
    "#### data source\n",
    "> SP500 : https://github.com/fja05680/sp500\n",
    "> iexapis: jwk_freedom@xxx.com  moxxIEX\n",
    "> https://polygon.io/:   github account\n",
    "\n",
    "33min"
   ]
  },
  {
   "cell_type": "code",
   "execution_count": 5,
   "metadata": {},
   "outputs": [],
   "source": [
    "%matplotlib inline\n",
    "import pandas as pd\n",
    "import numpy as np\n",
    "import sys\n",
    "sys.path.append(\"..\")\n",
    "from utils import stockapi"
   ]
  },
  {
   "cell_type": "code",
   "execution_count": 6,
   "metadata": {},
   "outputs": [],
   "source": [
    "my_columns = ['Ticker', 'Price', 'Market Capital', 'Number of Shares To Buy']\n",
    "df = pd.DataFrame(columns=my_columns)"
   ]
  },
  {
   "cell_type": "code",
   "execution_count": 7,
   "metadata": {},
   "outputs": [],
   "source": [
    "df_sp500 = pd.read_csv('sp500/sp500.csv')\n",
    "\n",
    "# for index, value in df_sp500['Symbol'].iteritems():\n",
    "#    print(f'Value at index {index} is {value}')"
   ]
  },
  {
   "cell_type": "code",
   "execution_count": 8,
   "metadata": {},
   "outputs": [
    {
     "name": "stdout",
     "output_type": "stream",
     "text": [
      "{'avgTotalVolume': 3192434, 'calculationPrice': 'close', 'change': 1.43, 'changePercent': 0.01391, 'close': None, 'closeSource': 'official', 'closeTime': None, 'companyName': '3M Co.', 'currency': 'USD', 'delayedPrice': None, 'delayedPriceTime': None, 'extendedChange': None, 'extendedChangePercent': None, 'extendedPrice': None, 'extendedPriceTime': None, 'high': None, 'highSource': '15 minute delayed price', 'highTime': 1678996800970, 'iexAskPrice': None, 'iexAskSize': None, 'iexBidPrice': None, 'iexBidSize': None, 'iexClose': 104.22, 'iexCloseTime': 1678996799335, 'iexLastUpdated': None, 'iexMarketPercent': None, 'iexOpen': None, 'iexOpenTime': None, 'iexRealtimePrice': None, 'iexRealtimeSize': None, 'iexVolume': None, 'lastTradeTime': 1678996799538, 'latestPrice': 104.21, 'latestSource': 'Close', 'latestTime': 'March 16, 2023', 'latestUpdate': 1678997017021, 'latestVolume': None, 'low': None, 'lowSource': '15 minute delayed price', 'lowTime': 1678974426586, 'marketCap': 57367605000, 'oddLotDelayedPrice': None, 'oddLotDelayedPriceTime': None, 'open': None, 'openTime': None, 'openSource': 'official', 'peRatio': 10.24, 'previousClose': 102.78, 'previousVolume': 4891663, 'primaryExchange': 'NEW YORK STOCK EXCHANGE INC.', 'symbol': 'MMM', 'volume': None, 'week52High': 147.85, 'week52Low': 101.48, 'ytdChange': -0.04602088472620034, 'isUSMarketOpen': False}\n"
     ]
    },
    {
     "name": "stderr",
     "output_type": "stream",
     "text": [
      "C:\\Users\\jwk_f\\AppData\\Local\\Temp\\ipykernel_45004\\4109619232.py:7: FutureWarning: The frame.append method is deprecated and will be removed from pandas in a future version. Use pandas.concat instead.\n",
      "  df = df.append(\n"
     ]
    },
    {
     "name": "stdout",
     "output_type": "stream",
     "text": [
      "{'avgTotalVolume': 964239, 'calculationPrice': 'close', 'change': 0.7, 'changePercent': 0.0105, 'close': None, 'closeSource': 'official', 'closeTime': None, 'companyName': 'A.O. Smith Corp.', 'currency': 'USD', 'delayedPrice': None, 'delayedPriceTime': None, 'extendedChange': None, 'extendedChangePercent': None, 'extendedPrice': None, 'extendedPriceTime': None, 'high': None, 'highSource': '15 minute delayed price', 'highTime': 1678996803964, 'iexAskPrice': None, 'iexAskSize': None, 'iexBidPrice': None, 'iexBidSize': None, 'iexClose': 67.375, 'iexCloseTime': 1678996796709, 'iexLastUpdated': None, 'iexMarketPercent': None, 'iexOpen': None, 'iexOpenTime': None, 'iexRealtimePrice': None, 'iexRealtimeSize': None, 'iexVolume': None, 'lastTradeTime': 1678996799905, 'latestPrice': 67.37, 'latestSource': 'Close', 'latestTime': 'March 16, 2023', 'latestUpdate': 1678996801992, 'latestVolume': None, 'low': None, 'lowSource': '15 minute delayed price', 'lowTime': 1678976163172, 'marketCap': 10292487254, 'oddLotDelayedPrice': None, 'oddLotDelayedPriceTime': None, 'open': None, 'openTime': None, 'openSource': 'official', 'peRatio': 44.62, 'previousClose': 66.67, 'previousVolume': 1279196, 'primaryExchange': 'NEW YORK STOCK EXCHANGE INC.', 'symbol': 'AOS', 'volume': None, 'week52High': 71.87, 'week52Low': 46.08, 'ytdChange': 0.20669703101544173, 'isUSMarketOpen': False}\n"
     ]
    },
    {
     "name": "stderr",
     "output_type": "stream",
     "text": [
      "C:\\Users\\jwk_f\\AppData\\Local\\Temp\\ipykernel_45004\\4109619232.py:7: FutureWarning: The frame.append method is deprecated and will be removed from pandas in a future version. Use pandas.concat instead.\n",
      "  df = df.append(\n"
     ]
    },
    {
     "data": {
      "text/html": [
       "<div>\n",
       "<style scoped>\n",
       "    .dataframe tbody tr th:only-of-type {\n",
       "        vertical-align: middle;\n",
       "    }\n",
       "\n",
       "    .dataframe tbody tr th {\n",
       "        vertical-align: top;\n",
       "    }\n",
       "\n",
       "    .dataframe thead th {\n",
       "        text-align: right;\n",
       "    }\n",
       "</style>\n",
       "<table border=\"1\" class=\"dataframe\">\n",
       "  <thead>\n",
       "    <tr style=\"text-align: right;\">\n",
       "      <th></th>\n",
       "      <th>Ticker</th>\n",
       "      <th>Price</th>\n",
       "      <th>Market Capital</th>\n",
       "      <th>Number of Shares To Buy</th>\n",
       "    </tr>\n",
       "  </thead>\n",
       "  <tbody>\n",
       "    <tr>\n",
       "      <th>0</th>\n",
       "      <td>MMM</td>\n",
       "      <td>104.21</td>\n",
       "      <td>57367605000</td>\n",
       "      <td>N/A</td>\n",
       "    </tr>\n",
       "    <tr>\n",
       "      <th>1</th>\n",
       "      <td>AOS</td>\n",
       "      <td>67.37</td>\n",
       "      <td>10292487254</td>\n",
       "      <td>N/A</td>\n",
       "    </tr>\n",
       "  </tbody>\n",
       "</table>\n",
       "</div>"
      ],
      "text/plain": [
       "  Ticker   Price Market Capital Number of Shares To Buy\n",
       "0    MMM  104.21    57367605000                     N/A\n",
       "1    AOS   67.37    10292487254                     N/A"
      ]
     },
     "execution_count": 8,
     "metadata": {},
     "output_type": "execute_result"
    },
    {
     "ename": "",
     "evalue": "",
     "output_type": "error",
     "traceback": [
      "\u001b[1;31mThe Kernel crashed while executing code in the the current cell or a previous cell. Please review the code in the cell(s) to identify a possible cause of the failure. Click <a href='https://aka.ms/vscodeJupyterKernelCrash'>here</a> for more info. View Jupyter <a href='command:jupyter.viewOutput'>log</a> for further details."
     ]
    }
   ],
   "source": [
    "\n",
    "for index, value in df_sp500['Symbol'][:2].items():\n",
    "    symbol = value\n",
    "    data=stockapi.iex_stock(symbol)\n",
    "    price=data['latestPrice']\n",
    "    market_cap=data['marketCap']\n",
    "    df = df.append(\n",
    "        pd.Series([symbol, price, market_cap, 'N/A'], index=my_columns),\n",
    "        ignore_index = True\n",
    "    )\n",
    "\n",
    "df"
   ]
  }
 ],
 "metadata": {
  "kernelspec": {
   "display_name": "Python 3",
   "language": "python",
   "name": "python3"
  },
  "language_info": {
   "codemirror_mode": {
    "name": "ipython",
    "version": 3
   },
   "file_extension": ".py",
   "mimetype": "text/x-python",
   "name": "python",
   "nbconvert_exporter": "python",
   "pygments_lexer": "ipython3",
   "version": "3.10.10"
  },
  "orig_nbformat": 4
 },
 "nbformat": 4,
 "nbformat_minor": 2
}
