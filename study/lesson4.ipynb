{
 "cells": [
  {
   "cell_type": "code",
   "execution_count": 135,
   "metadata": {},
   "outputs": [],
   "source": [
    "%matplotlib inline\n",
    "import pandas as pd\n",
    "import numpy as np\n",
    "import scipy as sp"
   ]
  },
  {
   "cell_type": "code",
   "execution_count": 136,
   "metadata": {},
   "outputs": [],
   "source": [
    "arr1 = np.arange(10)\n",
    "arr2 = np.array([2,1,4])"
   ]
  },
  {
   "cell_type": "code",
   "execution_count": 137,
   "metadata": {},
   "outputs": [
    {
     "data": {
      "text/plain": [
       "array([[ 6.26195239e+00, -4.41606941e-01,  3.59540371e-01,\n",
       "         3.82671769e+00,  5.55447146e+00],\n",
       "       [ 1.01395495e-03,  5.15828324e+00, -1.88601198e+00,\n",
       "         8.28303688e+00,  6.06594279e+00]])"
      ]
     },
     "execution_count": 137,
     "metadata": {},
     "output_type": "execute_result"
    }
   ],
   "source": [
    "randData = 2 + 3*np.random.randn(2,5)   # μ+σ*N(0,1)\n",
    "randData"
   ]
  },
  {
   "cell_type": "code",
   "execution_count": 138,
   "metadata": {},
   "outputs": [
    {
     "data": {
      "text/plain": [
       "array([[1., 0., 0.],\n",
       "       [0., 1., 0.],\n",
       "       [0., 0., 1.]])"
      ]
     },
     "execution_count": 138,
     "metadata": {},
     "output_type": "execute_result"
    }
   ],
   "source": [
    "np.eye(3,3)\n"
   ]
  },
  {
   "cell_type": "code",
   "execution_count": 139,
   "metadata": {},
   "outputs": [
    {
     "data": {
      "text/plain": [
       "array([ 4, -9])"
      ]
     },
     "execution_count": 139,
     "metadata": {},
     "output_type": "execute_result"
    }
   ],
   "source": [
    "arr1=np.array([2,3])\n",
    "arr2=np.array([2,-3])\n",
    "arr1*arr2"
   ]
  },
  {
   "cell_type": "code",
   "execution_count": 140,
   "metadata": {},
   "outputs": [
    {
     "data": {
      "text/plain": [
       "array([[-1.16237229, -0.34613443,  1.58003908, -0.48141968, -0.82151301,\n",
       "         1.50750245],\n",
       "       [ 0.3825482 ,  0.71629524, -0.77025994,  2.00808882, -0.14452988,\n",
       "         1.00410978],\n",
       "       [-0.6869671 , -1.0071689 , -0.04447391,  0.4512793 , -0.17193924,\n",
       "        -0.28348272],\n",
       "       [-0.46083025, -0.07217335, -0.5992859 , -1.77003491,  0.45970061,\n",
       "         1.33293559],\n",
       "       [ 0.01354537,  1.29673963,  0.49455461, -0.72706049,  0.74318143,\n",
       "        -0.19230502]])"
      ]
     },
     "execution_count": 140,
     "metadata": {},
     "output_type": "execute_result"
    }
   ],
   "source": [
    "names=np.array(['a', 'b', 'c', 'a', 'c'])\n",
    "\n",
    "data=np.random.randn(5,6)\n",
    "data\n"
   ]
  },
  {
   "cell_type": "code",
   "execution_count": 141,
   "metadata": {},
   "outputs": [
    {
     "data": {
      "text/plain": [
       "array([ True, False, False,  True, False])"
      ]
     },
     "execution_count": 141,
     "metadata": {},
     "output_type": "execute_result"
    }
   ],
   "source": [
    "names=='a'"
   ]
  },
  {
   "cell_type": "code",
   "execution_count": 142,
   "metadata": {},
   "outputs": [
    {
     "data": {
      "text/plain": [
       "array([[-1.16237229, -0.34613443,  1.58003908, -0.48141968, -0.82151301,\n",
       "         1.50750245],\n",
       "       [-0.46083025, -0.07217335, -0.5992859 , -1.77003491,  0.45970061,\n",
       "         1.33293559]])"
      ]
     },
     "execution_count": 142,
     "metadata": {},
     "output_type": "execute_result"
    }
   ],
   "source": [
    "data[names=='a']"
   ]
  },
  {
   "cell_type": "code",
   "execution_count": 143,
   "metadata": {},
   "outputs": [
    {
     "data": {
      "text/plain": [
       "array([[-2.01817771,  0.26075983,  0.15380498, -0.33316347,  1.33600347,\n",
       "         1.05596263,  0.34510375],\n",
       "       [ 0.12819195, -1.16286041, -1.63856197, -1.06959253, -0.10956138,\n",
       "         0.95952452,  0.7862915 ],\n",
       "       [ 1.43465614,  1.45687879,  0.46922916, -0.28975204, -1.65998233,\n",
       "         0.96356163, -0.31027918],\n",
       "       [ 0.15427285, -1.41676089,  1.62033295, -1.15849047,  0.38032172,\n",
       "         0.47023241,  0.08121353]])"
      ]
     },
     "execution_count": 143,
     "metadata": {},
     "output_type": "execute_result"
    }
   ],
   "source": [
    "data=np.random.randn(4,7)\n",
    "data"
   ]
  },
  {
   "cell_type": "code",
   "execution_count": 144,
   "metadata": {},
   "outputs": [
    {
     "data": {
      "text/plain": [
       "array([-2.01817771,  0.26075983,  0.15380498, -0.33316347,  1.33600347,\n",
       "        1.05596263,  0.34510375])"
      ]
     },
     "execution_count": 144,
     "metadata": {},
     "output_type": "execute_result"
    }
   ],
   "source": [
    "data[0]"
   ]
  },
  {
   "cell_type": "code",
   "execution_count": 145,
   "metadata": {},
   "outputs": [
    {
     "data": {
      "text/plain": [
       "0.2607598331109806"
      ]
     },
     "execution_count": 145,
     "metadata": {},
     "output_type": "execute_result"
    }
   ],
   "source": [
    "data[0][1]"
   ]
  },
  {
   "cell_type": "code",
   "execution_count": 146,
   "metadata": {},
   "outputs": [
    {
     "data": {
      "text/plain": [
       "array([[-2.01817771,  0.26075983,  0.15380498, -0.33316347,  1.33600347,\n",
       "         1.05596263,  0.34510375],\n",
       "       [ 1.43465614,  1.45687879,  0.46922916, -0.28975204, -1.65998233,\n",
       "         0.96356163, -0.31027918],\n",
       "       [ 0.12819195, -1.16286041, -1.63856197, -1.06959253, -0.10956138,\n",
       "         0.95952452,  0.7862915 ]])"
      ]
     },
     "execution_count": 146,
     "metadata": {},
     "output_type": "execute_result"
    }
   ],
   "source": [
    "data2=data[[0,2,1]]\n",
    "data2"
   ]
  }
 ],
 "metadata": {
  "kernelspec": {
   "display_name": "Python 3",
   "language": "python",
   "name": "python3"
  },
  "language_info": {
   "codemirror_mode": {
    "name": "ipython",
    "version": 3
   },
   "file_extension": ".py",
   "mimetype": "text/x-python",
   "name": "python",
   "nbconvert_exporter": "python",
   "pygments_lexer": "ipython3",
   "version": "3.10.10"
  },
  "orig_nbformat": 4
 },
 "nbformat": 4,
 "nbformat_minor": 2
}
