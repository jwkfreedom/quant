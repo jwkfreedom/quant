{
 "cells": [
  {
   "cell_type": "code",
   "execution_count": 61,
   "metadata": {},
   "outputs": [],
   "source": [
    "%matplotlib inline\n",
    "import pandas_datareader.data as web\n",
    "import datetime as dt\n"
   ]
  },
  {
   "cell_type": "code",
   "execution_count": 62,
   "metadata": {},
   "outputs": [
    {
     "data": {
      "text/html": [
       "<div>\n",
       "<style scoped>\n",
       "    .dataframe tbody tr th:only-of-type {\n",
       "        vertical-align: middle;\n",
       "    }\n",
       "\n",
       "    .dataframe tbody tr th {\n",
       "        vertical-align: top;\n",
       "    }\n",
       "\n",
       "    .dataframe thead th {\n",
       "        text-align: right;\n",
       "    }\n",
       "</style>\n",
       "<table border=\"1\" class=\"dataframe\">\n",
       "  <thead>\n",
       "    <tr style=\"text-align: right;\">\n",
       "      <th></th>\n",
       "      <th>Open</th>\n",
       "      <th>High</th>\n",
       "      <th>Low</th>\n",
       "      <th>Close</th>\n",
       "      <th>Volume</th>\n",
       "    </tr>\n",
       "    <tr>\n",
       "      <th>Date</th>\n",
       "      <th></th>\n",
       "      <th></th>\n",
       "      <th></th>\n",
       "      <th></th>\n",
       "      <th></th>\n",
       "    </tr>\n",
       "  </thead>\n",
       "  <tbody>\n",
       "    <tr>\n",
       "      <th>2023-03-10</th>\n",
       "      <td>NaN</td>\n",
       "      <td>NaN</td>\n",
       "      <td>NaN</td>\n",
       "      <td>NaN</td>\n",
       "      <td>NaN</td>\n",
       "    </tr>\n",
       "    <tr>\n",
       "      <th>2023-03-09</th>\n",
       "      <td>-0.021110</td>\n",
       "      <td>0.007856</td>\n",
       "      <td>-0.011235</td>\n",
       "      <td>0.006154</td>\n",
       "      <td>0.547391</td>\n",
       "    </tr>\n",
       "    <tr>\n",
       "      <th>2023-03-08</th>\n",
       "      <td>-0.035460</td>\n",
       "      <td>-0.079313</td>\n",
       "      <td>-0.041216</td>\n",
       "      <td>-0.050022</td>\n",
       "      <td>-0.787917</td>\n",
       "    </tr>\n",
       "    <tr>\n",
       "      <th>2023-03-07</th>\n",
       "      <td>0.002190</td>\n",
       "      <td>0.001945</td>\n",
       "      <td>0.000349</td>\n",
       "      <td>-0.006783</td>\n",
       "      <td>0.137572</td>\n",
       "    </tr>\n",
       "    <tr>\n",
       "      <th>2023-03-06</th>\n",
       "      <td>-0.003680</td>\n",
       "      <td>0.002740</td>\n",
       "      <td>0.004297</td>\n",
       "      <td>0.007756</td>\n",
       "      <td>-0.064684</td>\n",
       "    </tr>\n",
       "    <tr>\n",
       "      <th>2023-03-03</th>\n",
       "      <td>-0.008541</td>\n",
       "      <td>-0.008939</td>\n",
       "      <td>-0.015265</td>\n",
       "      <td>-0.007811</td>\n",
       "      <td>0.189810</td>\n",
       "    </tr>\n",
       "    <tr>\n",
       "      <th>2023-03-02</th>\n",
       "      <td>-0.026775</td>\n",
       "      <td>-0.014994</td>\n",
       "      <td>-0.020814</td>\n",
       "      <td>-0.007641</td>\n",
       "      <td>-0.111384</td>\n",
       "    </tr>\n",
       "    <tr>\n",
       "      <th>2023-03-01</th>\n",
       "      <td>0.012679</td>\n",
       "      <td>-0.004273</td>\n",
       "      <td>0.004465</td>\n",
       "      <td>-0.018432</td>\n",
       "      <td>-0.121029</td>\n",
       "    </tr>\n",
       "  </tbody>\n",
       "</table>\n",
       "</div>"
      ],
      "text/plain": [
       "                Open      High       Low     Close    Volume\n",
       "Date                                                        \n",
       "2023-03-10       NaN       NaN       NaN       NaN       NaN\n",
       "2023-03-09 -0.021110  0.007856 -0.011235  0.006154  0.547391\n",
       "2023-03-08 -0.035460 -0.079313 -0.041216 -0.050022 -0.787917\n",
       "2023-03-07  0.002190  0.001945  0.000349 -0.006783  0.137572\n",
       "2023-03-06 -0.003680  0.002740  0.004297  0.007756 -0.064684\n",
       "2023-03-03 -0.008541 -0.008939 -0.015265 -0.007811  0.189810\n",
       "2023-03-02 -0.026775 -0.014994 -0.020814 -0.007641 -0.111384\n",
       "2023-03-01  0.012679 -0.004273  0.004465 -0.018432 -0.121029"
      ]
     },
     "execution_count": 62,
     "metadata": {},
     "output_type": "execute_result"
    }
   ],
   "source": [
    "start = dt.datetime(2023, 3, 1)\n",
    "end = dt.datetime(2023, 3, 11)\n",
    "\n",
    "df = web.DataReader('GE', 'stooq', start, end)\n",
    "df"
   ]
  },
  {
   "cell_type": "code",
   "execution_count": null,
   "metadata": {},
   "outputs": [],
   "source": [
    "df.pct_change()"
   ]
  },
  {
   "cell_type": "markdown",
   "metadata": {},
   "source": []
  }
 ],
 "metadata": {
  "kernelspec": {
   "display_name": "Python 3",
   "language": "python",
   "name": "python3"
  },
  "language_info": {
   "codemirror_mode": {
    "name": "ipython",
    "version": 3
   },
   "file_extension": ".py",
   "mimetype": "text/x-python",
   "name": "python",
   "nbconvert_exporter": "python",
   "pygments_lexer": "ipython3",
   "version": "3.10.10"
  },
  "orig_nbformat": 4
 },
 "nbformat": 4,
 "nbformat_minor": 2
}
