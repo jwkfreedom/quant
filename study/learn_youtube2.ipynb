{
 "cells": [
  {
   "attachments": {},
   "cell_type": "markdown",
   "metadata": {},
   "source": [
    "## Section2 Quantitative Momentum Strategy\n",
    "\n",
    "https://www.youtube.com/watch?v=xfzGZB4HhEE&t=31s\n",
    "2h50min\n"
   ]
  },
  {
   "cell_type": "code",
   "execution_count": null,
   "metadata": {},
   "outputs": [],
   "source": []
  }
 ],
 "metadata": {
  "language_info": {
   "name": "python"
  },
  "orig_nbformat": 4
 },
 "nbformat": 4,
 "nbformat_minor": 2
}
