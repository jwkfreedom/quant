{
 "cells": [
  {
   "cell_type": "code",
   "execution_count": null,
   "metadata": {},
   "outputs": [],
   "source": [
    "\n",
    "import pandas as pd\n",
    "import matplotlib.pyplot as plt\n",
    "from mpl_finance import candlestick_ochl\n",
    "from matplotlib.pylab import date2num\n",
    "import datetime\n",
    "import talib\n",
    "import stockdata as sd\n",
    "# 获取贵州茅台从2018年元旦至2023年3月20日的行情数据start date ='2018-01-01end date =2023-03-20df = ts.get k data('600519',start=start date, end=end date)\n",
    "# 计算MACD指标\n",
    "\n",
    "df = sd.get_stock_price('000001')\n",
    "\n",
    "df['EMA12'] = talib.EMA(df['close'], timeperiod=12)\n",
    "df['EMA26'] = talib.EMA(df['close'], timeperiod=26)\n",
    "df['DIF'] = df['EMA12'] - df['EMA26']\n",
    "df['DEA'] = talib.EMA(df['DIF'], timeperiod=9)\n",
    "df['MACD'] = 2 * (df['DIF'] - df['DEA'])\n",
    "#画图展示\n",
    "df['date'] = pd.to_datetime(df['date'])\n",
    "df['date'] = df['date'].apply(date2num)\n",
    "df_values = [tuple(vals) for vals in df[['date', 'open', 'close', 'high', 'low']].values]\n",
    "fig, ax = plt.subplots(figsize=(20, 10))\n",
    "candlestick_ochl(ax, df_values, width=0.6, colorup='red', colordown='green', alpha=0.8)\n",
    "plt.plot(df['date'], df['DIF'], label='DIF')\n",
    "plt.plot(df['date'], df['DEA'], label='DEA')\n",
    "plt.bar(df['date'], df['MACD'], label='MACD', width=0.03 * len(df))\n",
    "plt.legend()\n",
    "plt.show()"
   ]
  }
 ],
 "metadata": {
  "kernelspec": {
   "display_name": "Python 3",
   "language": "python",
   "name": "python3"
  },
  "language_info": {
   "codemirror_mode": {
    "name": "ipython",
    "version": 3
   },
   "file_extension": ".py",
   "mimetype": "text/x-python",
   "name": "python",
   "nbconvert_exporter": "python",
   "pygments_lexer": "ipython3",
   "version": "3.9.13"
  },
  "orig_nbformat": 4
 },
 "nbformat": 4,
 "nbformat_minor": 2
}
