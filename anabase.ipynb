{
 "cells": [
  {
   "cell_type": "code",
   "execution_count": 3,
   "metadata": {},
   "outputs": [],
   "source": [
    "%matplotlib inline\n",
    "import pandas as pd\n",
    "import numpy as np"
   ]
  },
  {
   "cell_type": "code",
   "execution_count": null,
   "metadata": {},
   "outputs": [],
   "source": [
    "year = '20221231'\n",
    "df_zcfz = pd.read_csv(f'data/a/jibenmian/zcfz_{year}.csv')\n",
    "df_lrb = pd.read_csv(f'data/a/jibenmian/lrb_{year}.csv')\n",
    "df_xjll = pd.read_csv(f'data/a/jibenmian/xjll_{year}.csv')\n",
    "\n",
    "df = pd.DataFrame()\n",
    "df[]\n"
   ]
  }
 ],
 "metadata": {
  "kernelspec": {
   "display_name": "Python 3",
   "language": "python",
   "name": "python3"
  },
  "language_info": {
   "codemirror_mode": {
    "name": "ipython",
    "version": 3
   },
   "file_extension": ".py",
   "mimetype": "text/x-python",
   "name": "python",
   "nbconvert_exporter": "python",
   "pygments_lexer": "ipython3",
   "version": "3.9.13"
  },
  "orig_nbformat": 4
 },
 "nbformat": 4,
 "nbformat_minor": 2
}
