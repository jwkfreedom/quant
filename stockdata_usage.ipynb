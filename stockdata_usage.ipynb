{
 "cells": [
  {
   "cell_type": "code",
   "execution_count": null,
   "metadata": {},
   "outputs": [],
   "source": [
    "%matplotlib inline\n",
    "import pandas as pd\n",
    "import numpy as np\n",
    "import matplotlib.pyplot as plt\n",
    "import stockdata as sd"
   ]
  },
  {
   "cell_type": "code",
   "execution_count": null,
   "metadata": {},
   "outputs": [],
   "source": [
    "df = pd.read_csv('data/202101-202204.csv')\n",
    "df['SeasonIncomeGrowth'] = df['SeasonIncomeGrowth'].clip(lower=-10.0, upper=100.0)\n",
    "df['SeasonProfitGrowth'] = df['SeasonProfitGrowth'].clip(lower=-10.0, upper=100.0)\n",
    "# dfloc = df.loc[df['股票代码'] == 600079, ['iDATE', 'preYearIncome', 'SeasonIncome', 'SeasonIncomeGrowth', 'preYearProfit', 'SeasonProfit', 'SeasonProfitGrowth']]\n",
    "# df.loc[df['股票代码']==2, ['iDATE', 'preYearIncome', 'SeasonIncome', 'SeasonIncomeGrowth', 'preYearProfit', 'SeasonProfit', 'SeasonProfitGrowth']]"
   ]
  },
  {
   "cell_type": "code",
   "execution_count": null,
   "metadata": {},
   "outputs": [],
   "source": [
    "dfincome = df.groupby('股票代码')['SeasonIncomeGrowth'].mean()\n",
    "dfprofit = df.groupby('股票代码')['SeasonProfitGrowth'].mean()\n",
    "dfgrowth = pd.merge(dfincome, dfprofit, on=['股票代码'])\n",
    "\n",
    "dfgrowth = dfgrowth.loc[(dfgrowth['SeasonIncomeGrowth'] > 70) & (dfgrowth['SeasonProfitGrowth'] > 70)]\n",
    "dfgrowth"
   ]
  },
  {
   "cell_type": "code",
   "execution_count": null,
   "metadata": {},
   "outputs": [],
   "source": [
    "df.loc[df['股票代码']==689009, ['iDATE', 'preYearIncome', 'SeasonIncome', 'SeasonIncomeGrowth', 'preYearProfit', 'SeasonProfit', 'SeasonProfitGrowth']]"
   ]
  },
  {
   "cell_type": "code",
   "execution_count": null,
   "metadata": {},
   "outputs": [],
   "source": [
    "plt.scatter(dfgrowth['SeasonIncomeGrowth'], dfgrowth['SeasonProfitGrowth'])\n",
    "\n",
    "\"\"\"\n",
    "for i in range(len(df)):\n",
    "    # Check if the point is an outlier\n",
    "    if df.iloc[i]['SeasonIncomeGrowth'] > 85 or df.iloc[i]['SeasonProfitGrowth'] > 85 :\n",
    "        # Annotate the point with its name\n",
    "        plt.annotate(df.iloc[i]['股票代码'], (df.iloc[i]['SeasonIncomeGrowth'], df.iloc[i]['SeasonProfitGrowth']))\n",
    "\n",
    "plt.show()\n",
    "\"\"\"\n"
   ]
  }
 ],
 "metadata": {
  "kernelspec": {
   "display_name": "Python 3",
   "language": "python",
   "name": "python3"
  },
  "language_info": {
   "codemirror_mode": {
    "name": "ipython",
    "version": 3
   },
   "file_extension": ".py",
   "mimetype": "text/x-python",
   "name": "python",
   "nbconvert_exporter": "python",
   "pygments_lexer": "ipython3",
   "version": "3.9.13"
  },
  "orig_nbformat": 4
 },
 "nbformat": 4,
 "nbformat_minor": 2
}
