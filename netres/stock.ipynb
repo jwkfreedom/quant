{
 "cells": [
  {
   "cell_type": "code",
   "execution_count": 1,
   "metadata": {},
   "outputs": [],
   "source": [
    "%matplotlib inline\n",
    "import requests\n",
    "import json\n",
    "import sys\n",
    "sys.path.append(\"..\")"
   ]
  },
  {
   "cell_type": "code",
   "execution_count": 2,
   "metadata": {},
   "outputs": [
    {
     "data": {
      "text/plain": [
       "{'data': [{'symbol': 'SH600000',\n",
       "   'current': 7.11,\n",
       "   'percent': -0.14,\n",
       "   'chg': -0.01,\n",
       "   'timestamp': 1679036400000,\n",
       "   'volume': 36328142,\n",
       "   'amount': 260022747.71,\n",
       "   'market_capital': 208693958349.0,\n",
       "   'float_market_capital': 208693958349.0,\n",
       "   'turnover_rate': 0.12,\n",
       "   'amplitude': 1.69,\n",
       "   'open': 7.14,\n",
       "   'last_close': 7.12,\n",
       "   'high': 7.22,\n",
       "   'low': 7.1,\n",
       "   'avg_price': 7.1576120713798135,\n",
       "   'trade_volume': None,\n",
       "   'side': None,\n",
       "   'is_trade': False,\n",
       "   'level': 2,\n",
       "   'trade_session': None,\n",
       "   'trade_type': None,\n",
       "   'current_year_percent': -2.34,\n",
       "   'trade_unique_id': None,\n",
       "   'type': 11,\n",
       "   'bid_appl_seq_num': None,\n",
       "   'offer_appl_seq_num': None,\n",
       "   'volume_ext': None,\n",
       "   'traded_amount_ext': None,\n",
       "   'trade_type_v2': None}],\n",
       " 'error_code': 0,\n",
       " 'error_description': None}"
      ]
     },
     "execution_count": 2,
     "metadata": {},
     "output_type": "execute_result"
    }
   ],
   "source": [
    "from utils import stockapi\n",
    "# snowball 雪球\n",
    "rt_json = stockapi.stock_info(\"SH600000\")\n",
    "rt_json"
   ]
  }
 ],
 "metadata": {
  "kernelspec": {
   "display_name": "Python 3",
   "language": "python",
   "name": "python3"
  },
  "language_info": {
   "codemirror_mode": {
    "name": "ipython",
    "version": 3
   },
   "file_extension": ".py",
   "mimetype": "text/x-python",
   "name": "python",
   "nbconvert_exporter": "python",
   "pygments_lexer": "ipython3",
   "version": "3.9.13"
  },
  "orig_nbformat": 4
 },
 "nbformat": 4,
 "nbformat_minor": 2
}
